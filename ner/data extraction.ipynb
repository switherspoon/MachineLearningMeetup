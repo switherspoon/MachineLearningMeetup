{
 "cells": [
  {
   "cell_type": "code",
   "execution_count": 3,
   "metadata": {
    "collapsed": false,
    "scrolled": true
   },
   "outputs": [
    {
     "name": "stdout",
     "output_type": "stream",
     "text": [
      "The sql extension is already loaded. To reload it, use:\n",
      "  %reload_ext sql\n",
      "660 rows affected.\n"
     ]
    }
   ],
   "source": [
    "# Retrieving bill text session by session\n",
    "\n",
    "%load_ext sql\n",
    "%sql postgresql://work@localhost/postgres\n",
    "\n",
    "\n",
    "bills = %sql select S.session_id, B.number_only, T.text_en from bills_bill B inner join bills_billinsession S on S.bill_id = B.id inner join bills_billtext T on T.bill_id = B.id where B.number_only < 200 and B.institution = 'C' order by S.session_id, number_only"
   ]
  },
  {
   "cell_type": "code",
   "execution_count": 4,
   "metadata": {
    "collapsed": false
   },
   "outputs": [
    {
     "name": "stdout",
     "output_type": "stream",
     "text": [
      "473\n"
     ]
    }
   ],
   "source": [
    "# Removing duplicate bills from query\n",
    "\n",
    "class billData:\n",
    "    def __init__(self, session, num, content):\n",
    "        self.session = session\n",
    "        self.number = num\n",
    "        self.text = content\n",
    "\n",
    "output = []\n",
    "\n",
    "last_bill = \"\"\n",
    "last_session= \"\"\n",
    "for bill in bills:\n",
    "    if (last_bill != bill.number_only):\n",
    "            output.append(billData(bill.session_id, bill.number_only, bill.text_en))\n",
    "    last_bill = bill.number_only\n",
    "print (len(output))"
   ]
  },
  {
   "cell_type": "code",
   "execution_count": 5,
   "metadata": {
    "collapsed": false
   },
   "outputs": [],
   "source": [
    "# output files to each directory\n",
    "import os\n",
    "def assure_path_exists(path):\n",
    "        dir = os.path.dirname(path)\n",
    "        if not os.path.exists(dir):\n",
    "                os.makedirs(dir)\n",
    "\n",
    "for bill in output:\n",
    "    path = './data/'+bill.session+'/{0:03d}.txt'.format(bill.number)\n",
    "    assure_path_exists(path)\n",
    "    fp = open(path, 'w')\n",
    "    fp.write(bill.text)\n",
    "    #print(\"Session: \"+bill.session+\" Bill: \"+ '{0:03d}'.format(bill.number)) \n"
   ]
  },
  {
   "cell_type": "code",
   "execution_count": 6,
   "metadata": {
    "collapsed": false
   },
   "outputs": [
    {
     "name": "stdout",
     "output_type": "stream",
     "text": [
      "The sql extension is already loaded. To reload it, use:\n",
      "  %reload_ext sql\n",
      "248 rows affected.\n"
     ]
    }
   ],
   "source": [
    "# extract hansard counts for word \"omnibus\"\n",
    "%load_ext sql\n",
    "%sql postgresql://work@localhost/postgres\n",
    "\n",
    "hansard_counts = %sql select S.session_id, B.number_only, count(B.id) from bills_bill B inner join bills_billinsession S on S.bill_id = B.id inner join hansards_statement_bills HB on HB.bill_id = B.id inner join hansards_statement HS on HS.id = HB.statement_id where B.institution = 'C' and B.number_only < 200 and HS.content_en like '%omnibus%' group by B.number_only, S.session_id order by S.session_id, B.number_only\n"
   ]
  },
  {
   "cell_type": "code",
   "execution_count": 9,
   "metadata": {
    "collapsed": false
   },
   "outputs": [],
   "source": [
    "# write list of identified omnibus bills to omnibus.csv file\n",
    "for count in hansard_counts:\n",
    "    if count.count >= 10:\n",
    "        path = './data/'+count.session_id+'/omnibus.csv'\n",
    "        assure_path_exists(path)\n",
    "        fp = open(path, 'a')\n",
    "        fp.write(str(count.number_only)+'\\n')\n",
    "    #print(\"Session: \"+bill.session+\" Bill: \"+ '{0:03d}'.format(bill.number)) \n"
   ]
  },
  {
   "cell_type": "code",
   "execution_count": null,
   "metadata": {
    "collapsed": true
   },
   "outputs": [],
   "source": []
  }
 ],
 "metadata": {
  "kernelspec": {
   "display_name": "Python 3",
   "language": "python",
   "name": "python3"
  },
  "language_info": {
   "codemirror_mode": {
    "name": "ipython",
    "version": 3
   },
   "file_extension": ".py",
   "mimetype": "text/x-python",
   "name": "python",
   "nbconvert_exporter": "python",
   "pygments_lexer": "ipython3",
   "version": "3.5.0"
  }
 },
 "nbformat": 4,
 "nbformat_minor": 0
}
