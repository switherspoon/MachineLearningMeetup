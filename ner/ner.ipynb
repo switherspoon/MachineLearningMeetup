{
 "cells": [
  {
   "cell_type": "code",
   "execution_count": 13,
   "metadata": {
    "collapsed": false,
    "scrolled": true
   },
   "outputs": [
    {
     "name": "stdout",
     "output_type": "stream",
     "text": [
      "The sql extension is already loaded. To reload it, use:\n",
      "  %reload_ext sql\n",
      "840 rows affected.\n"
     ]
    }
   ],
   "source": [
    "import nltk, re, pprint\n",
    "from nltk import word_tokenize\n",
    "\n",
    "%load_ext sql\n",
    "%sql postgresql://work@localhost/postgres\n",
    "\n",
    "bills41_1 = %sql select B.number, T.text_en from bills_bill B inner join bills_billinsession S on S.bill_id = B.id inner join bills_billtext T on T.bill_id = B.id where S.session_id = '41-1' and B.institution = 'C' order by number_only\n",
    "\n"
   ]
  },
  {
   "cell_type": "code",
   "execution_count": 14,
   "metadata": {
    "collapsed": false
   },
   "outputs": [],
   "source": [
    "import csv\n",
    "\n",
    "acts=[]\n",
    "\n",
    "with open('acts_processed.csv', 'rt') as f:\n",
    "    reader = csv.reader(f)\n",
    "    for row in reader:\n",
    "        acts.append(row[1])"
   ]
  },
  {
   "cell_type": "code",
   "execution_count": 15,
   "metadata": {
    "collapsed": false
   },
   "outputs": [
    {
     "name": "stdout",
     "output_type": "stream",
     "text": [
      "405\n"
     ]
    }
   ],
   "source": [
    "class billData:\n",
    "    def __init__(self, num, content, count):\n",
    "        self.number = num\n",
    "        self.text = content\n",
    "        self.count = count\n",
    "\n",
    "output = []\n",
    "\n",
    "last_bill = \"\"\n",
    "for bill in bills41_1:\n",
    "    if (last_bill != bill.number):\n",
    "        output.append(billData(bill.number, bill.text_en.lower(), 0))\n",
    "    last_bill = bill.number\n",
    "print (len(output))"
   ]
  },
  {
   "cell_type": "code",
   "execution_count": 16,
   "metadata": {
    "collapsed": false
   },
   "outputs": [],
   "source": [
    "last_bill = \"\"\n",
    "for bill in output:\n",
    "    #print (\"Bill %s\" % bill.number)\n",
    "    for act in acts:\n",
    "        result = bill.text.count(act.lower())\n",
    "        if result > 0:\n",
    "            bill.count=bill.count + 1\n",
    "    #print (\"Count: %d\" % bill.count)\n",
    "\n"
   ]
  },
  {
   "cell_type": "code",
   "execution_count": 17,
   "metadata": {
    "collapsed": false
   },
   "outputs": [],
   "source": [
    "with open('output.csv', 'w', newline='') as fp:\n",
    "    a = csv.writer(fp, delimiter=',')\n",
    "    for bill in output:\n",
    "        a.writerow([bill.number, bill.count])\n",
    "        "
   ]
  },
  {
   "cell_type": "code",
   "execution_count": null,
   "metadata": {
    "collapsed": false
   },
   "outputs": [],
   "source": []
  },
  {
   "cell_type": "code",
   "execution_count": null,
   "metadata": {
    "collapsed": true
   },
   "outputs": [],
   "source": []
  }
 ],
 "metadata": {
  "kernelspec": {
   "display_name": "Python 3",
   "language": "python",
   "name": "python3"
  },
  "language_info": {
   "codemirror_mode": {
    "name": "ipython",
    "version": 3
   },
   "file_extension": ".py",
   "mimetype": "text/x-python",
   "name": "python",
   "nbconvert_exporter": "python",
   "pygments_lexer": "ipython3",
   "version": "3.5.0"
  }
 },
 "nbformat": 4,
 "nbformat_minor": 0
}
