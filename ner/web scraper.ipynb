{
 "cells": [
  {
   "cell_type": "code",
   "execution_count": null,
   "metadata": {
    "collapsed": false
   },
   "outputs": [],
   "source": [
    "import urllib2\n",
    "import xml.etree.ElementTree as ET\n",
    "    \n",
    "for index in range(1,65):\n",
    "    print ('Fetching Act A-%d' % index)\n",
    "    url = 'http://laws-lois.justice.gc.ca/eng/XML/A-'+str(index)+'.xml'\n",
    "    print url\n",
    "    response = urllib2.urlopen(url)\n",
    "    xml = response.read()\n",
    "    root = ET.fromstring(xml)\n",
    "    for act in root.iter('ShortTitle'):\n",
    "        print act.text"
   ]
  },
  {
   "cell_type": "code",
   "execution_count": 7,
   "metadata": {
    "collapsed": false
   },
   "outputs": [],
   "source": [
    "import scrapy\n",
    "\n",
    "class actsList(scrapy.Item):\n",
    "    title = scrapy.Field()\n",
    "    link = scrapy.Field()\n",
    "\n",
    "class actSpider(scrapy.Spider):\n",
    "    name = 'actspider'\n",
    "    start_urls = [\"http://laws-lois.justice.gc.ca/eng/acts/\"]\n",
    "        \n",
    "    deals_list_xpath = '//a[@class=\"TocTitle\"]'\n",
    "    item_fields = {\n",
    "        'title': './/text()',\n",
    "        'link': './/@href'\n",
    "    }\n",
    "    "
   ]
  },
  {
   "cell_type": "code",
   "execution_count": null,
   "metadata": {
    "collapsed": true
   },
   "outputs": [],
   "source": []
  },
  {
   "cell_type": "code",
   "execution_count": null,
   "metadata": {
    "collapsed": true
   },
   "outputs": [],
   "source": []
  }
 ],
 "metadata": {
  "kernelspec": {
   "display_name": "Python 2",
   "language": "python",
   "name": "python2"
  },
  "language_info": {
   "codemirror_mode": {
    "name": "ipython",
    "version": 2
   },
   "file_extension": ".py",
   "mimetype": "text/x-python",
   "name": "python",
   "nbconvert_exporter": "python",
   "pygments_lexer": "ipython2",
   "version": "2.7.11"
  }
 },
 "nbformat": 4,
 "nbformat_minor": 0
}
