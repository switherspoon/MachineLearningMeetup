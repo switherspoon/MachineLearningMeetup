{
 "cells": [
  {
   "cell_type": "code",
   "execution_count": 165,
   "metadata": {
    "collapsed": true
   },
   "outputs": [],
   "source": [
    "import csv\n",
    "from sklearn.naive_bayes import GaussianNB, MultinomialNB\n",
    "import numpy as np"
   ]
  },
  {
   "cell_type": "code",
   "execution_count": 166,
   "metadata": {
    "collapsed": true
   },
   "outputs": [],
   "source": [
    "gnb = GaussianNB()\n",
    "mnb = MultinomialNB()"
   ]
  },
  {
   "cell_type": "code",
   "execution_count": 167,
   "metadata": {
    "collapsed": true
   },
   "outputs": [],
   "source": [
    "X = []\n",
    "y = []\n",
    "\n",
    "train_files = ['X_train.csv','y.csv']\n",
    "test_files = ['fullresult.csv', 'omni.csv']"
   ]
  },
  {
   "cell_type": "code",
   "execution_count": 168,
   "metadata": {
    "collapsed": false
   },
   "outputs": [],
   "source": [
    "def csv_open(filename):\n",
    "    temp = []\n",
    "    with open(filename, newline='\\n') as csvfile:\n",
    "        arr = csv.reader(csvfile, delimiter=',')\n",
    "        for row in arr:\n",
    "            temp.append(row)\n",
    "    return temp"
   ]
  },
  {
   "cell_type": "code",
   "execution_count": 169,
   "metadata": {
    "collapsed": true
   },
   "outputs": [],
   "source": [
    "def clean_X(X):\n",
    "    return np.array(X).astype(np.float)\n",
    "                  \n",
    "def clean_y(y):\n",
    "    return np.array(y).astype(np.float).ravel(order='C')"
   ]
  },
  {
   "cell_type": "code",
   "execution_count": 170,
   "metadata": {
    "collapsed": false
   },
   "outputs": [],
   "source": [
    "def gnb_model(X,y):\n",
    "    return gnb.fit(X,y)\n",
    "\n",
    "def mnb_model(X,y):\n",
    "    return mnb.fit(X,y)"
   ]
  },
  {
   "cell_type": "code",
   "execution_count": 171,
   "metadata": {
    "collapsed": true
   },
   "outputs": [],
   "source": [
    "def model_eval(result, y):\n",
    "    success = 0\n",
    "    omni_success = 0\n",
    "    fail = 0\n",
    "    false_neg = 0\n",
    "    false_pos = 0\n",
    "    \n",
    "    for i, items in enumerate(result):\n",
    "        if items == y[i]:\n",
    "            success +=1\n",
    "            if items == 1:\n",
    "                omni_success += 1\n",
    "        else:\n",
    "            fail +=1\n",
    "            if items == 0:\n",
    "                false_neg += 1\n",
    "            elif items == 1:\n",
    "                false_pos += 1\n",
    "    return{'s': success, 'os': omni_success, 'f': fail, 'fn': false_neg, 'fp': false_pos}"
   ]
  },
  {
   "cell_type": "code",
   "execution_count": 199,
   "metadata": {
    "collapsed": false
   },
   "outputs": [],
   "source": [
    "testX = clean_X(csv_open(train_files[0]))\n",
    "testy = clean_y(csv_open(train_files[1]))\n",
    "omni = clean_y(csv_open(test_files[1]))\n",
    "result_gnb = gnb_model(testX, testy).predict(clean_X(csv_open(test_files[0])))\n",
    "result_mnb = mnb_model(testX,testy).predict(clean_X(csv_open(test_files[0])))\n",
    "result_test_gnb = gnb_model(testX, testy).predict(testX)\n",
    "result_test_mnb = gnb_model(testX, testy).predict(testX)\n",
    "a = model_eval(result_gnb, omni)\n",
    "b = model_eval(result_mnb, omni)\n",
    "c = model_eval(result_test_gnb, testy)\n",
    "d = model_eval(result_test_mnb, testy)"
   ]
  },
  {
   "cell_type": "code",
   "execution_count": 200,
   "metadata": {
    "collapsed": false
   },
   "outputs": [
    {
     "name": "stdout",
     "output_type": "stream",
     "text": [
      "Gaussian:\n",
      "\tTrue Positive Omnibus Classification: 5\n",
      "\tFalse Negative Omnibus Classification: 5\n",
      "\tFalse Positive Omnibus Classification: 16\n",
      "\tSuccessful Classifications: 107\n",
      "\tFailed Classifications: 21\n",
      "\tPrecision: 0.23809523809523808\n",
      "\tRecall: 0.5\n",
      "Multinomial:\n",
      "\tTrue Positive Omnibus Classification: 4\n",
      "\tFalse Negative Omnibus Classification: 6\n",
      "\tFalse Positive Omnibus Classification: 18\n",
      "\tSuccessful Classifications: 104\n",
      "\tFailed Classifications: 24\n",
      "\tPrecision: 0.18181818181818182\n",
      "\tRecall: 0.4\n",
      "Gaussian Test:\n",
      "\tTrue Positive Omnibus Classification: 3\n",
      "\tFalse Negative Omnibus Classification: 2\n",
      "\tFalse Positive Omnibus Classification: 0\n",
      "\tSuccessful Classifications: 23\n",
      "\tFailed Classifications: 2\n",
      "\tPrecision: 1.0\n",
      "\tRecall: 0.6\n",
      "Multinomial Test:\n",
      "\tTrue Positive Omnibus Classification: 3\n",
      "\tFalse Negative Omnibus Classification: 2\n",
      "\tFalse Positive Omnibus Classification: 0\n",
      "\tSuccessful Classifications: 23\n",
      "\tFailed Classifications: 2\n",
      "\tPrecision: 1.0\n",
      "\tRecall: 0.6\n"
     ]
    }
   ],
   "source": [
    "print('Gaussian:',\n",
    "      '\\tTrue Positive Omnibus Classification: {}'.format(a['os']),\n",
    "      '\\tFalse Negative Omnibus Classification: {}'.format(a['fn']),\n",
    "      '\\tFalse Positive Omnibus Classification: {}'.format(a['fp']),\n",
    "      '\\tSuccessful Classifications: {}'.format(a['s']),\n",
    "      '\\tFailed Classifications: {}'.format(a['f']),\n",
    "      '\\tPrecision: {}'.format(a['os']/(a['os'] + a['fp'])),\n",
    "      '\\tRecall: {}'.format(a['os']/(a['os']+a['fn'])),\n",
    "      sep='\\n')\n",
    "print('Multinomial:',\n",
    "      '\\tTrue Positive Omnibus Classification: {}'.format(b['os']),\n",
    "      '\\tFalse Negative Omnibus Classification: {}'.format(b['fn']),\n",
    "      '\\tFalse Positive Omnibus Classification: {}'.format(b['fp']),\n",
    "      '\\tSuccessful Classifications: {}'.format(b['s']),\n",
    "      '\\tFailed Classifications: {}'.format(b['f']),\n",
    "      '\\tPrecision: {}'.format(b['os']/(b['os'] + b['fp'])),\n",
    "      '\\tRecall: {}'.format(b['os']/(b['os']+b['fn'])),\n",
    "      sep='\\n')\n",
    "print('Gaussian Test:',\n",
    "      '\\tTrue Positive Omnibus Classification: {}'.format(c['os']),\n",
    "      '\\tFalse Negative Omnibus Classification: {}'.format(c['fn']),\n",
    "      '\\tFalse Positive Omnibus Classification: {}'.format(c['fp']),\n",
    "      '\\tSuccessful Classifications: {}'.format(c['s']),\n",
    "      '\\tFailed Classifications: {}'.format(c['f']),\n",
    "      '\\tPrecision: {}'.format(c['os']/(c['os'] + c['fp'])),\n",
    "      '\\tRecall: {}'.format(c['os']/(c['os']+c['fn'])),\n",
    "      sep='\\n')\n",
    "print('Multinomial Test:',\n",
    "      '\\tTrue Positive Omnibus Classification: {}'.format(d['os']),\n",
    "      '\\tFalse Negative Omnibus Classification: {}'.format(d['fn']),\n",
    "      '\\tFalse Positive Omnibus Classification: {}'.format(d['fp']),\n",
    "      '\\tSuccessful Classifications: {}'.format(d['s']),\n",
    "      '\\tFailed Classifications: {}'.format(d['f']),\n",
    "      '\\tPrecision: {}'.format(d['os']/(d['os'] + d['fp'])),\n",
    "      '\\tRecall: {}'.format(d['os']/(d['os']+d['fn'])),\n",
    "      sep='\\n')"
   ]
  },
  {
   "cell_type": "code",
   "execution_count": null,
   "metadata": {
    "collapsed": true
   },
   "outputs": [],
   "source": []
  },
  {
   "cell_type": "code",
   "execution_count": null,
   "metadata": {
    "collapsed": true
   },
   "outputs": [],
   "source": []
  },
  {
   "cell_type": "code",
   "execution_count": null,
   "metadata": {
    "collapsed": true
   },
   "outputs": [],
   "source": []
  },
  {
   "cell_type": "code",
   "execution_count": null,
   "metadata": {
    "collapsed": true
   },
   "outputs": [],
   "source": []
  },
  {
   "cell_type": "code",
   "execution_count": null,
   "metadata": {
    "collapsed": true
   },
   "outputs": [],
   "source": []
  }
 ],
 "metadata": {
  "kernelspec": {
   "display_name": "Python 3",
   "language": "python",
   "name": "python3"
  },
  "language_info": {
   "codemirror_mode": {
    "name": "ipython",
    "version": 3
   },
   "file_extension": ".py",
   "mimetype": "text/x-python",
   "name": "python",
   "nbconvert_exporter": "python",
   "pygments_lexer": "ipython3",
   "version": "3.5.0"
  }
 },
 "nbformat": 4,
 "nbformat_minor": 0
}
