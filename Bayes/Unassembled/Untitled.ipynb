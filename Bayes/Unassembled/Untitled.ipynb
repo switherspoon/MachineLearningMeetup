{
 "cells": [
  {
   "cell_type": "code",
   "execution_count": 1,
   "metadata": {
    "collapsed": true
   },
   "outputs": [],
   "source": [
    "import csv\n",
    "\n",
    "def csv_open(filename):\n",
    "    temp = []\n",
    "    with open(filename, newline='\\n') as csvfile:\n",
    "        arr = csv.reader(csvfile, delimiter=',')\n",
    "        for row in arr:\n",
    "            temp.append(row)\n",
    "    return temp"
   ]
  },
  {
   "cell_type": "code",
   "execution_count": 2,
   "metadata": {
    "collapsed": false
   },
   "outputs": [],
   "source": [
    "tests = [left + right\n",
    "        for left, right\n",
    "        in zip(csv_open('results.csv'),csv_open('NER.csv'))]"
   ]
  },
  {
   "cell_type": "code",
   "execution_count": 3,
   "metadata": {
    "collapsed": false
   },
   "outputs": [],
   "source": [
    "with open('fullresult.csv', 'w') as the_file:\n",
    "    csvwriter = csv.writer(the_file)\n",
    "    for test in tests:\n",
    "        csvwriter.writerow(test)\n"
   ]
  },
  {
   "cell_type": "code",
   "execution_count": null,
   "metadata": {
    "collapsed": true
   },
   "outputs": [],
   "source": []
  }
 ],
 "metadata": {
  "kernelspec": {
   "display_name": "Python 3",
   "language": "python",
   "name": "python3"
  },
  "language_info": {
   "codemirror_mode": {
    "name": "ipython",
    "version": 3
   },
   "file_extension": ".py",
   "mimetype": "text/x-python",
   "name": "python",
   "nbconvert_exporter": "python",
   "pygments_lexer": "ipython3",
   "version": "3.5.0"
  }
 },
 "nbformat": 4,
 "nbformat_minor": 0
}
